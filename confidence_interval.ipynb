{
  "nbformat": 4,
  "nbformat_minor": 0,
  "metadata": {
    "colab": {
      "provenance": []
    },
    "kernelspec": {
      "name": "python3",
      "display_name": "Python 3"
    },
    "language_info": {
      "name": "python"
    }
  },
  "cells": [
    {
      "cell_type": "markdown",
      "source": [
        "##Q1: The average time taken for customers to complete a purchase is 4 minutes with a std dev of 1 minute.  \n",
        "\n",
        "Find the probability that a randomly selected customer will complete a purchase within 6 minutes?  \n",
        "Assume Gaussian"
      ],
      "metadata": {
        "id": "Hdnk4VOTO-dh"
      }
    },
    {
      "cell_type": "code",
      "execution_count": null,
      "metadata": {
        "id": "eyBj3DfLO9C3"
      },
      "outputs": [],
      "source": [
        "norm.cdf(2)"
      ]
    },
    {
      "cell_type": "markdown",
      "source": [
        "## Q2: Average body temperature has a mean of 98.6°F and a standard deviation of 0.5°F.  \n",
        "What is the probability that a randomly chosen patient has a body temperature higher than 99.5°F?  "
      ],
      "metadata": {
        "id": "aV_kU-SjRPbF"
      }
    },
    {
      "cell_type": "code",
      "source": [
        "import numpy as np\n",
        "import pandas as pd\n",
        "import seaborn as sns\n",
        "import matplotlib.pyplot as plt\n",
        "import scipy.stats\n",
        "from scipy.stats import norm"
      ],
      "metadata": {
        "id": "v7zrejnhRSNq"
      },
      "execution_count": null,
      "outputs": []
    },
    {
      "cell_type": "markdown",
      "source": [
        "## What is the probability that the average time of the next 5 customers is less than 6 minutes?    \n"
      ],
      "metadata": {
        "id": "_FIKdy2zRoBm"
      }
    },
    {
      "cell_type": "code",
      "source": [
        "z = (6-4) / (1 / np.sqrt(5))\n",
        "z"
      ],
      "metadata": {
        "colab": {
          "base_uri": "https://localhost:8080/"
        },
        "id": "Iwi1ec2GRj76",
        "outputId": "6433be34-486e-42cc-96d1-d7df44a4827a"
      },
      "execution_count": null,
      "outputs": [
        {
          "output_type": "execute_result",
          "data": {
            "text/plain": [
              "4.47213595499958"
            ]
          },
          "metadata": {},
          "execution_count": 2
        }
      ]
    },
    {
      "cell_type": "code",
      "source": [
        "norm.cdf(z)"
      ],
      "metadata": {
        "colab": {
          "base_uri": "https://localhost:8080/"
        },
        "id": "CB98qZ_TTQoO",
        "outputId": "6b91e5fd-9219-460b-fe6d-c522a1794ae1"
      },
      "execution_count": null,
      "outputs": [
        {
          "output_type": "execute_result",
          "data": {
            "text/plain": [
              "0.9999961278917845"
            ]
          },
          "metadata": {},
          "execution_count": 3
        }
      ]
    },
    {
      "cell_type": "markdown",
      "source": [
        "## Height Example\n",
        "\n",
        "Q: The mean height of a sample of 100 adults was found to be 65 inches, with a standard deviation of 2.5 inches.  "
      ],
      "metadata": {
        "id": "lslsJ47NV0A6"
      }
    },
    {
      "cell_type": "code",
      "source": [
        "z1 = norm.ppf(0.025)\n",
        "z1"
      ],
      "metadata": {
        "colab": {
          "base_uri": "https://localhost:8080/"
        },
        "id": "tfq3RNMUTTck",
        "outputId": "be9040e7-b12e-494b-ac75-6feb064e2ae8"
      },
      "execution_count": null,
      "outputs": [
        {
          "output_type": "execute_result",
          "data": {
            "text/plain": [
              "-1.9599639845400545"
            ]
          },
          "metadata": {},
          "execution_count": 4
        }
      ]
    },
    {
      "cell_type": "code",
      "source": [
        "z2 = norm.ppf(0.975)\n",
        "z2"
      ],
      "metadata": {
        "colab": {
          "base_uri": "https://localhost:8080/"
        },
        "id": "YB8c8LnZXvf1",
        "outputId": "bf74377c-9773-402c-fa37-c421e9110057"
      },
      "execution_count": null,
      "outputs": [
        {
          "output_type": "execute_result",
          "data": {
            "text/plain": [
              "1.959963984540054"
            ]
          },
          "metadata": {},
          "execution_count": 5
        }
      ]
    },
    {
      "cell_type": "code",
      "source": [
        "## std dev of the sample mean: std error\n",
        "std_error = 2.5 / np.sqrt(100)\n",
        "std_error"
      ],
      "metadata": {
        "colab": {
          "base_uri": "https://localhost:8080/"
        },
        "id": "EPpwDTjMYRoR",
        "outputId": "77cccf81-fc16-4717-9e9c-4a92b7ebd8dc"
      },
      "execution_count": null,
      "outputs": [
        {
          "output_type": "execute_result",
          "data": {
            "text/plain": [
              "0.25"
            ]
          },
          "metadata": {},
          "execution_count": 7
        }
      ]
    },
    {
      "cell_type": "code",
      "source": [
        "x1 = 65 + z1 * std_error\n",
        "x1"
      ],
      "metadata": {
        "colab": {
          "base_uri": "https://localhost:8080/"
        },
        "id": "vLTqE8HrZRpe",
        "outputId": "cd9d4f5f-4c4e-4585-c39b-2c8306121175"
      },
      "execution_count": null,
      "outputs": [
        {
          "output_type": "execute_result",
          "data": {
            "text/plain": [
              "64.51000900386498"
            ]
          },
          "metadata": {},
          "execution_count": 8
        }
      ]
    },
    {
      "cell_type": "code",
      "source": [
        "x2 = 65 + z2 * std_error\n",
        "x2"
      ],
      "metadata": {
        "colab": {
          "base_uri": "https://localhost:8080/"
        },
        "id": "3RBrM_NGZ2hx",
        "outputId": "0ffec686-47e5-4b1f-a8ca-89631c11af4a"
      },
      "execution_count": null,
      "outputs": [
        {
          "output_type": "execute_result",
          "data": {
            "text/plain": [
              "65.48999099613502"
            ]
          },
          "metadata": {},
          "execution_count": 9
        }
      ]
    },
    {
      "cell_type": "markdown",
      "source": [
        "## The sample mean recovery time of 100 patients after taking a drug was seen to be 10.5 days with a standard deviation of 2 days    \n",
        "Find the 95% confidence interval of the true mean."
      ],
      "metadata": {
        "id": "u240EDH4f1-9"
      }
    },
    {
      "cell_type": "code",
      "source": [
        "std_error = 2 / np.sqrt(100)\n",
        "std_error"
      ],
      "metadata": {
        "colab": {
          "base_uri": "https://localhost:8080/"
        },
        "id": "1ednOgcwZ5Z7",
        "outputId": "d9dfef99-a0a6-4c75-d906-560a0368681b"
      },
      "execution_count": null,
      "outputs": [
        {
          "output_type": "execute_result",
          "data": {
            "text/plain": [
              "0.2"
            ]
          },
          "metadata": {},
          "execution_count": 10
        }
      ]
    },
    {
      "cell_type": "code",
      "source": [
        "z1 = norm.ppf(0.025)\n",
        "x1 = 10.5 + z1*std_error\n",
        "x1"
      ],
      "metadata": {
        "colab": {
          "base_uri": "https://localhost:8080/"
        },
        "id": "SH0Og_GegNLa",
        "outputId": "e26b4abb-5653-401d-9d5c-4ebaeb18c53f"
      },
      "execution_count": null,
      "outputs": [
        {
          "output_type": "execute_result",
          "data": {
            "text/plain": [
              "10.108007203091988"
            ]
          },
          "metadata": {},
          "execution_count": 11
        }
      ]
    },
    {
      "cell_type": "code",
      "source": [
        "z2 = norm.ppf(0.975)\n",
        "x2 = 10.5 + z2*std_error\n",
        "x2"
      ],
      "metadata": {
        "colab": {
          "base_uri": "https://localhost:8080/"
        },
        "id": "DJIiRgiVgViU",
        "outputId": "af1d4680-9f91-479f-e03e-ebc56953da41"
      },
      "execution_count": null,
      "outputs": [
        {
          "output_type": "execute_result",
          "data": {
            "text/plain": [
              "10.89199279690801"
            ]
          },
          "metadata": {},
          "execution_count": 12
        }
      ]
    },
    {
      "cell_type": "markdown",
      "source": [
        "The mean Youtube watch time of a sample of 100 students was found to be 3.5 hours,  \n",
        "with a standard deviation of 1 hour.   \n",
        "Construct a 90% confidence interval for the true watch time.  "
      ],
      "metadata": {
        "id": "rH0P_b-qhngs"
      }
    },
    {
      "cell_type": "code",
      "source": [
        "def calc_CI(mean, std, N, confidence):\n",
        "    # calculate std_error\n",
        "    std_error = std / np.sqrt(N)\n",
        "    print(\"Standard Error: \", std_error)\n",
        "\n",
        "    # calculate the remaining fractions\n",
        "    frac = (1 - (confidence/100)) / 2\n",
        "\n",
        "    # calculate z1 and z2\n",
        "    z1 = norm.ppf(frac)\n",
        "    z2 = norm.ppf(1 - frac)\n",
        "\n",
        "    # calculate end points\n",
        "    x1 = mean + (z1 * std_error)\n",
        "    x2 = mean + (z2 * std_error)\n",
        "\n",
        "    return x1, x2"
      ],
      "metadata": {
        "id": "wwwS_AAEgZ__"
      },
      "execution_count": null,
      "outputs": []
    },
    {
      "cell_type": "code",
      "source": [
        "calc_CI(3.5, 1, 100, 90)"
      ],
      "metadata": {
        "colab": {
          "base_uri": "https://localhost:8080/"
        },
        "id": "yefIko3Vi6NG",
        "outputId": "16f23a08-7496-4ff9-c7c4-6e6d150a0c6c"
      },
      "execution_count": null,
      "outputs": [
        {
          "output_type": "stream",
          "name": "stdout",
          "text": [
            "Standard Error:  0.1\n"
          ]
        },
        {
          "output_type": "execute_result",
          "data": {
            "text/plain": [
              "(3.3355146373048528, 3.6644853626951472)"
            ]
          },
          "metadata": {},
          "execution_count": 16
        }
      ]
    },
    {
      "cell_type": "markdown",
      "source": [
        "## Confidence Interval using Bootstrap"
      ],
      "metadata": {
        "id": "6ZUM7aQPj5fd"
      }
    },
    {
      "cell_type": "code",
      "source": [
        "survey_1 = [35, 36, 33, 37, 34, 35]\n",
        "np.mean(survey_1)"
      ],
      "metadata": {
        "colab": {
          "base_uri": "https://localhost:8080/"
        },
        "id": "3xsKMsLAjGbe",
        "outputId": "25d0466e-b244-4524-954f-07bf87413e85"
      },
      "execution_count": null,
      "outputs": [
        {
          "output_type": "execute_result",
          "data": {
            "text/plain": [
              "35.0"
            ]
          },
          "metadata": {},
          "execution_count": 17
        }
      ]
    },
    {
      "cell_type": "code",
      "source": [
        "survey_2 = [20, 37, 17, 50, 53, 33]\n",
        "np.mean(survey_2)\n"
      ],
      "metadata": {
        "colab": {
          "base_uri": "https://localhost:8080/"
        },
        "id": "GjhSgtaykQ0T",
        "outputId": "8527e1d6-7870-4353-8150-0b979be34c38"
      },
      "execution_count": null,
      "outputs": [
        {
          "output_type": "execute_result",
          "data": {
            "text/plain": [
              "35.0"
            ]
          },
          "metadata": {},
          "execution_count": 18
        }
      ]
    },
    {
      "cell_type": "code",
      "source": [
        "## sampling with replacement\n",
        "n = 6\n",
        "bootstrapped_samples = np.random.choice(survey_1, size=n)\n",
        "np.mean(bootstrapped_samples)"
      ],
      "metadata": {
        "colab": {
          "base_uri": "https://localhost:8080/"
        },
        "id": "56Pq-ouukuut",
        "outputId": "e1fc6477-4b1d-42bf-d9de-2059b04d280d"
      },
      "execution_count": null,
      "outputs": [
        {
          "output_type": "execute_result",
          "data": {
            "text/plain": [
              "35.5"
            ]
          },
          "metadata": {},
          "execution_count": 25
        }
      ]
    },
    {
      "cell_type": "code",
      "source": [
        "n = 6\n",
        "bootstrapped_samples_2 = np.random.choice(survey_2, size=n)\n",
        "np.mean(bootstrapped_samples_2)"
      ],
      "metadata": {
        "colab": {
          "base_uri": "https://localhost:8080/"
        },
        "id": "hYKfDOlJlCmP",
        "outputId": "1d32f731-7aa1-4316-936b-765e7032f57c"
      },
      "execution_count": null,
      "outputs": [
        {
          "output_type": "execute_result",
          "data": {
            "text/plain": [
              "46.5"
            ]
          },
          "metadata": {},
          "execution_count": 28
        }
      ]
    },
    {
      "cell_type": "code",
      "source": [
        "bootstrapped_means_survey_1 = []\n",
        "\n",
        "for reps in range(10000):\n",
        "    bootstrapped_samples = np.random.choice(survey_1, size=n)\n",
        "    means = np.mean(bootstrapped_samples)\n",
        "    bootstrapped_means_survey_1.append(means)"
      ],
      "metadata": {
        "id": "f8jI6_l-lUO5"
      },
      "execution_count": null,
      "outputs": []
    },
    {
      "cell_type": "code",
      "source": [
        "sns.histplot(bootstrapped_means_survey_1)"
      ],
      "metadata": {
        "colab": {
          "base_uri": "https://localhost:8080/",
          "height": 448
        },
        "id": "K__W447Ql3O9",
        "outputId": "ba1df03f-cce0-4889-ff74-5a2e1449e2a5"
      },
      "execution_count": null,
      "outputs": [
        {
          "output_type": "execute_result",
          "data": {
            "text/plain": [
              "<Axes: ylabel='Count'>"
            ]
          },
          "metadata": {},
          "execution_count": 31
        },
        {
          "output_type": "display_data",
          "data": {
            "text/plain": [
              "<Figure size 640x480 with 1 Axes>"
            ],
            "image/png": "[encoded data removed]"
          },
          "metadata": {}
        }
      ]
    },
    {
      "cell_type": "code",
      "source": [
        "bootstrapped_means_survey_2 = []\n",
        "\n",
        "for reps in range(10000):\n",
        "    bootstrapped_samples = np.random.choice(survey_2, size=n)\n",
        "    means = np.mean(bootstrapped_samples)\n",
        "    bootstrapped_means_survey_2.append(means)"
      ],
      "metadata": {
        "id": "e0o9z2W4l8VZ"
      },
      "execution_count": null,
      "outputs": []
    },
    {
      "cell_type": "code",
      "source": [
        "sns.histplot(bootstrapped_means_survey_2)"
      ],
      "metadata": {
        "colab": {
          "base_uri": "https://localhost:8080/",
          "height": 448
        },
        "id": "xhYeJZ1amFCv",
        "outputId": "a196d1eb-1004-4f91-d0dd-7b3aa1ece300"
      },
      "execution_count": null,
      "outputs": [
        {
          "output_type": "execute_result",
          "data": {
            "text/plain": [
              "<Axes: ylabel='Count'>"
            ]
          },
          "metadata": {},
          "execution_count": 33
        },
        {
          "output_type": "display_data",
          "data": {
            "text/plain": [
              "<Figure size 640x480 with 1 Axes>"
            ],
            "image/png": "[encoded data removed]"
          },
          "metadata": {}
        }
      ]
    },
    {
      "cell_type": "code",
      "source": [
        "len(bootstrapped_means_survey_1)"
      ],
      "metadata": {
        "colab": {
          "base_uri": "https://localhost:8080/"
        },
        "id": "mmKP-D5cmIqv",
        "outputId": "da213c52-c3f7-4889-e2e6-b3d48d2d8c45"
      },
      "execution_count": null,
      "outputs": [
        {
          "output_type": "execute_result",
          "data": {
            "text/plain": [
              "10000"
            ]
          },
          "metadata": {},
          "execution_count": 34
        }
      ]
    },
    {
      "cell_type": "code",
      "source": [
        "x1 = np.percentile(bootstrapped_means_survey_1, 2.5)\n",
        "x1"
      ],
      "metadata": {
        "colab": {
          "base_uri": "https://localhost:8080/"
        },
        "id": "7RUa9Vd5mizx",
        "outputId": "40f07f0d-0ede-4370-ca14-9c031734086c"
      },
      "execution_count": null,
      "outputs": [
        {
          "output_type": "execute_result",
          "data": {
            "text/plain": [
              "34.0"
            ]
          },
          "metadata": {},
          "execution_count": 35
        }
      ]
    },
    {
      "cell_type": "code",
      "source": [
        "x2 = np.percentile(bootstrapped_means_survey_1, 97.5)\n",
        "x2"
      ],
      "metadata": {
        "colab": {
          "base_uri": "https://localhost:8080/"
        },
        "id": "Mca7cAfdmrOK",
        "outputId": "9fe7f11b-2458-41e5-a62c-6a04f935b474"
      },
      "execution_count": null,
      "outputs": [
        {
          "output_type": "execute_result",
          "data": {
            "text/plain": [
              "36.0"
            ]
          },
          "metadata": {},
          "execution_count": 36
        }
      ]
    },
    {
      "cell_type": "markdown",
      "source": [
        "95% of the numbers lie between 34 & 36.\n",
        "confidence interval (34, 36)"
      ],
      "metadata": {
        "id": "VIpJcTKnmyMl"
      }
    },
    {
      "cell_type": "code",
      "source": [
        "x1 = np.percentile(bootstrapped_means_survey_2, 2.5)\n",
        "x1"
      ],
      "metadata": {
        "colab": {
          "base_uri": "https://localhost:8080/"
        },
        "id": "XT0LCRx4mvcW",
        "outputId": "57006a3d-994e-4ebd-d5e7-8e3574601d73"
      },
      "execution_count": null,
      "outputs": [
        {
          "output_type": "execute_result",
          "data": {
            "text/plain": [
              "24.0"
            ]
          },
          "metadata": {},
          "execution_count": 37
        }
      ]
    },
    {
      "cell_type": "code",
      "source": [
        "x2 = np.percentile(bootstrapped_means_survey_2, 97.5)\n",
        "x2"
      ],
      "metadata": {
        "colab": {
          "base_uri": "https://localhost:8080/"
        },
        "id": "yXEG9gyAm-R-",
        "outputId": "78bf490e-9f7c-4e91-c9eb-ddbb46b3dcc7"
      },
      "execution_count": null,
      "outputs": [
        {
          "output_type": "execute_result",
          "data": {
            "text/plain": [
              "46.0"
            ]
          },
          "metadata": {},
          "execution_count": 39
        }
      ]
    },
    {
      "cell_type": "code",
      "source": [],
      "metadata": {
        "id": "RYL5eS5KnAqz"
      },
      "execution_count": null,
      "outputs": []
    }
  ]
}